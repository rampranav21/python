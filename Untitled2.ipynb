{
  "cells": [
    {
      "cell_type": "code",
      "execution_count": null,
      "metadata": {
        "colab": {
          "base_uri": "https://localhost:8080/"
        },
        "id": "HgS26iJ9OT-M",
        "outputId": "9cbbda3b-003f-4947-872d-c497c877090a"
      },
      "outputs": [
        {
          "data": {
            "text/plain": [
              "6"
            ]
          },
          "execution_count": 1,
          "metadata": {},
          "output_type": "execute_result"
        }
      ],
      "source": [
        "#help\n",
        "\n",
        "x= [1,2,3]\n",
        "\n",
        "sum(x)"
      ]
    },
    {
      "cell_type": "code",
      "execution_count": null,
      "metadata": {
        "colab": {
          "base_uri": "https://localhost:8080/"
        },
        "id": "sZ8a46n4PWAF",
        "outputId": "9515490e-76c1-4b5d-ed0b-338262eb8adf"
      },
      "outputs": [
        {
          "name": "stdout",
          "output_type": "stream",
          "text": [
            "Help on built-in function sum in module builtins:\n",
            "\n",
            "sum(iterable, /, start=0)\n",
            "    Return the sum of a 'start' value (default: 0) plus an iterable of numbers\n",
            "    \n",
            "    When the iterable is empty, return the start value.\n",
            "    This function is intended specifically for use with numeric values and may\n",
            "    reject non-numeric types.\n",
            "\n"
          ]
        }
      ],
      "source": [
        "help(sum)"
      ]
    },
    {
      "cell_type": "code",
      "execution_count": null,
      "metadata": {
        "colab": {
          "base_uri": "https://localhost:8080/"
        },
        "id": "ECj4o1ynj9MV",
        "outputId": "15834570-da4f-40b6-9f54-f14a82e3c605"
      },
      "outputs": [
        {
          "name": "stdout",
          "output_type": "stream",
          "text": [
            "Type a number: 55555\n",
            "Type another number: 6969\n",
            "The sum is:  62524\n"
          ]
        }
      ],
      "source": [
        "x = input(\"Type a number: \")\n",
        "y = input(\"Type another number: \")\n",
        "\n",
        "sum = int(x) + int(y)\n",
        "\n",
        "print(\"The sum is: \", sum)"
      ]
    },
    {
      "cell_type": "code",
      "execution_count": null,
      "metadata": {
        "colab": {
          "base_uri": "https://localhost:8080/"
        },
        "id": "YGjeNIO5lr9T",
        "outputId": "62609a00-934b-4c95-a8ea-a5063244056c"
      },
      "outputs": [
        {
          "name": "stdout",
          "output_type": "stream",
          "text": [
            "The value of x after swapping: 10\n",
            "The value of y after swapping: 5\n"
          ]
        }
      ],
      "source": [
        "x = 5\n",
        "y = 10\n",
        "\n",
        "temp = x\n",
        "x = y\n",
        "y = temp\n",
        "\n",
        "print('The value of x after swapping:',(x))\n",
        "print('The value of y after swapping:',(y))"
      ]
    },
    {
      "cell_type": "code",
      "execution_count": null,
      "metadata": {
        "colab": {
          "base_uri": "https://localhost:8080/"
        },
        "id": "_umSRaZFpXwl",
        "outputId": "af4d54ce-92f6-482e-d1fe-85c33e6c3aaa"
      },
      "outputs": [
        {
          "name": "stdout",
          "output_type": "stream",
          "text": [
            "a: 10\n",
            "b: 5\n"
          ]
        }
      ],
      "source": [
        "a = 5\n",
        "b = 10\n",
        "a, b = b, a\n",
        "print(\"a:\", a)\n",
        "print(\"b:\", b)\n"
      ]
    },
    {
      "cell_type": "code",
      "execution_count": null,
      "metadata": {
        "colab": {
          "base_uri": "https://localhost:8080/"
        },
        "id": "vhMgmY8duQ4f",
        "outputId": "c6684a30-2580-4379-c4ae-44859ca1b02f"
      },
      "outputs": [
        {
          "name": "stdout",
          "output_type": "stream",
          "text": [
            "[1, 2, 3, 4, 5, 6]\n"
          ]
        }
      ],
      "source": [
        "list1 = [1, 2, 3]\n",
        "list2 = [4, 5, 6]\n",
        "\n",
        "joined_list = list1 + list2\n",
        "print(joined_list)"
      ]
    },
    {
      "cell_type": "code",
      "execution_count": null,
      "metadata": {
        "colab": {
          "base_uri": "https://localhost:8080/"
        },
        "id": "HVe2BepQ4GTc",
        "outputId": "58161aec-c55b-4e26-9816-a0cc29f36342"
      },
      "outputs": [
        {
          "name": "stdout",
          "output_type": "stream",
          "text": [
            "Matrix Addition:\n",
            "[[ 3  9]\n",
            " [ 9 15]]\n",
            "Matrix Subtraction:\n",
            "[[-1 -3]\n",
            " [ 1 -1]]\n",
            "Matrix Multiplication:\n",
            "[[14 30]\n",
            " [38 86]]\n",
            "Matrix Division:\n",
            "[[0.5   0.5  ]\n",
            " [1.25  0.875]]\n"
          ]
        }
      ],
      "source": [
        "import numpy as np # type: ignore\n",
        "\n",
        "matrix1 = np.array([[1, 3], [5, 7]])\n",
        "matrix2 = np.array([[2, 6], [4, 8]])\n",
        "addition = matrix1 + matrix2\n",
        "subtraction = matrix1 - matrix2\n",
        "multiplication = np.dot(matrix1,matrix2)\n",
        "division= matrix1 / matrix2\n",
        "print(\"Matrix Addition:\")\n",
        "print(addition)\n",
        "print(\"Matrix Subtraction:\")\n",
        "print(subtraction)\n",
        "print(\"Matrix Multiplication:\")\n",
        "print(multiplication)\n",
        "print(\"Matrix Division:\")\n",
        "print(division)\n"
      ]
    }
  ],
  "metadata": {
    "colab": {
      "provenance": []
    },
    "kernelspec": {
      "display_name": "Python 3",
      "name": "python3"
    },
    "language_info": {
      "name": "python"
    }
  },
  "nbformat": 4,
  "nbformat_minor": 0
}
