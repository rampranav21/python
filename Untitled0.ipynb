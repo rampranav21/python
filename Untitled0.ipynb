{
  "cells": [
    {
      "cell_type": "code",
      "execution_count": null,
      "metadata": {
        "colab": {
          "base_uri": "https://localhost:8080/"
        },
        "id": "InSEr9-ESqmi",
        "outputId": "597f32c4-6f86-4d7b-c82b-398b7f05ebb7"
      },
      "outputs": [
        {
          "data": {
            "text/plain": [
              "13"
            ]
          },
          "execution_count": 2,
          "metadata": {},
          "output_type": "execute_result"
        }
      ],
      "source": [
        "7+6"
      ]
    },
    {
      "cell_type": "code",
      "execution_count": null,
      "metadata": {
        "id": "_RwKst4GTVi8"
      },
      "outputs": [],
      "source": [
        "a=4"
      ]
    },
    {
      "cell_type": "code",
      "execution_count": null,
      "metadata": {
        "id": "5LFZsUnBTOU_"
      },
      "outputs": [],
      "source": [
        "b=5"
      ]
    },
    {
      "cell_type": "code",
      "execution_count": null,
      "metadata": {
        "colab": {
          "base_uri": "https://localhost:8080/"
        },
        "id": "aG1hzvnaTytS",
        "outputId": "03f4a698-8901-4f24-e045-b4ca701607d4"
      },
      "outputs": [
        {
          "name": "stdout",
          "output_type": "stream",
          "text": [
            "4\n",
            "5\n"
          ]
        }
      ],
      "source": [
        "#this code cell inspects the values of the variables\n",
        "print(a) # print out a\n",
        "print(b)"
      ]
    },
    {
      "cell_type": "code",
      "execution_count": null,
      "metadata": {
        "colab": {
          "base_uri": "https://localhost:8080/"
        },
        "id": "UuDK_cfQUcTn",
        "outputId": "53b3579a-e253-499a-d03e-7c10e7f5503f"
      },
      "outputs": [
        {
          "data": {
            "text/plain": [
              "int"
            ]
          },
          "execution_count": 12,
          "metadata": {},
          "output_type": "execute_result"
        }
      ],
      "source": [
        " c=21\n",
        " d=21.0\n",
        " type(d)\n",
        " type(c)"
      ]
    },
    {
      "cell_type": "code",
      "execution_count": null,
      "metadata": {
        "colab": {
          "base_uri": "https://localhost:8080/"
        },
        "id": "X5Hb3OWsVDm9",
        "outputId": "ab9e5c9a-5665-4d04-e971-cf88d882304a"
      },
      "outputs": [
        {
          "data": {
            "text/plain": [
              "str"
            ]
          },
          "execution_count": 13,
          "metadata": {},
          "output_type": "execute_result"
        }
      ],
      "source": [
        "e= 'hello'\n",
        "f=\"My name is\"\n",
        "\n",
        "type(f)"
      ]
    },
    {
      "cell_type": "code",
      "execution_count": null,
      "metadata": {
        "colab": {
          "base_uri": "https://localhost:8080/"
        },
        "id": "ZnWBz25fW09Y",
        "outputId": "63da12e0-eb75-476d-ae97-c0b54d89bacc"
      },
      "outputs": [
        {
          "name": "stdout",
          "output_type": "stream",
          "text": [
            "Variable   Type     Data/Info\n",
            "-----------------------------\n",
            "a          int      4\n",
            "b          int      5\n",
            "c          int      21\n",
            "d          float    21.0\n",
            "e          str      hello\n",
            "f          str      My name is\n"
          ]
        }
      ],
      "source": [
        "%whos"
      ]
    },
    {
      "cell_type": "code",
      "execution_count": null,
      "metadata": {
        "colab": {
          "base_uri": "https://localhost:8080/"
        },
        "id": "MtqbkliYSQ6f",
        "outputId": "ec0d55e1-903d-4971-fc95-8063ff503e7b"
      },
      "outputs": [
        {
          "data": {
            "text/plain": [
              "2"
            ]
          },
          "execution_count": 7,
          "metadata": {},
          "output_type": "execute_result"
        }
      ],
      "source": [
        "x=4\n",
        "y=5.3\n",
        "z=0\n",
        "6-x"
      ]
    },
    {
      "cell_type": "code",
      "execution_count": null,
      "metadata": {
        "colab": {
          "base_uri": "https://localhost:8080/"
        },
        "id": "BTFqJfrVTKhM",
        "outputId": "b6a9399e-58f3-49f1-ce69-4c95a54c9a95"
      },
      "outputs": [
        {
          "data": {
            "text/plain": [
              "81"
            ]
          },
          "execution_count": 1,
          "metadata": {},
          "output_type": "execute_result"
        }
      ],
      "source": [
        "9**2"
      ]
    },
    {
      "cell_type": "code",
      "execution_count": null,
      "metadata": {
        "colab": {
          "base_uri": "https://localhost:8080/"
        },
        "id": "I6HifBTDZI6z",
        "outputId": "b5acafff-baba-4483-c5b4-cfd52cdeff8f"
      },
      "outputs": [
        {
          "data": {
            "text/plain": [
              "3.0"
            ]
          },
          "execution_count": 2,
          "metadata": {},
          "output_type": "execute_result"
        }
      ],
      "source": [
        "9**(1/2)"
      ]
    },
    {
      "cell_type": "code",
      "execution_count": null,
      "metadata": {
        "colab": {
          "base_uri": "https://localhost:8080/",
          "height": 36
        },
        "id": "jFOUvKUQZNVJ",
        "outputId": "6b9b5f6e-f227-44f7-ae16-518291239600"
      },
      "outputs": [
        {
          "data": {
            "application/vnd.google.colaboratory.intrinsic+json": {
              "type": "string"
            },
            "text/plain": [
              "'pranavpranavpranavpranavpranav'"
            ]
          },
          "execution_count": 5,
          "metadata": {},
          "output_type": "execute_result"
        }
      ],
      "source": [
        "firstname='sriram'\n",
        "lastname='pranav'\n",
        "firstname + lastname\n",
        "#overloading\n",
        "lastname*5"
      ]
    },
    {
      "cell_type": "code",
      "execution_count": null,
      "metadata": {
        "colab": {
          "base_uri": "https://localhost:8080/"
        },
        "id": "fqRXROika6Dw",
        "outputId": "dfb5ba15-67a7-4483-89d7-a8330c3ced0c"
      },
      "outputs": [
        {
          "name": "stdout",
          "output_type": "stream",
          "text": [
            "4 + 5.3 = 9.3\n"
          ]
        }
      ],
      "source": [
        "print(str(x) + ' + ' + str(y) + ' = ' + str(x+y))"
      ]
    },
    {
      "cell_type": "code",
      "execution_count": null,
      "metadata": {
        "colab": {
          "base_uri": "https://localhost:8080/",
          "height": 304
        },
        "id": "7PzY1sNwb_6S",
        "outputId": "5bfcf685-9aaf-401c-b05a-f66cd1f5fd10"
      },
      "outputs": [
        {
          "ename": "KeyboardInterrupt",
          "evalue": "Interrupted by user",
          "output_type": "error",
          "traceback": [
            "\u001b[0;31m---------------------------------------------------------------------------\u001b[0m",
            "\u001b[0;31mKeyboardInterrupt\u001b[0m                         Traceback (most recent call last)",
            "\u001b[0;32m<ipython-input-11-b24134757e64>\u001b[0m in \u001b[0;36m<cell line: 1>\u001b[0;34m()\u001b[0m\n\u001b[0;32m----> 1\u001b[0;31m \u001b[0mans\u001b[0m \u001b[0;34m=\u001b[0m \u001b[0minput\u001b[0m\u001b[0;34m(\u001b[0m\u001b[0;34m'give me a number:'\u001b[0m\u001b[0;34m)\u001b[0m\u001b[0;34m\u001b[0m\u001b[0;34m\u001b[0m\u001b[0m\n\u001b[0m",
            "\u001b[0;32m/usr/local/lib/python3.10/dist-packages/ipykernel/kernelbase.py\u001b[0m in \u001b[0;36mraw_input\u001b[0;34m(self, prompt)\u001b[0m\n\u001b[1;32m    849\u001b[0m                 \u001b[0;34m\"raw_input was called, but this frontend does not support input requests.\"\u001b[0m\u001b[0;34m\u001b[0m\u001b[0;34m\u001b[0m\u001b[0m\n\u001b[1;32m    850\u001b[0m             )\n\u001b[0;32m--> 851\u001b[0;31m         return self._input_request(str(prompt),\n\u001b[0m\u001b[1;32m    852\u001b[0m             \u001b[0mself\u001b[0m\u001b[0;34m.\u001b[0m\u001b[0m_parent_ident\u001b[0m\u001b[0;34m,\u001b[0m\u001b[0;34m\u001b[0m\u001b[0;34m\u001b[0m\u001b[0m\n\u001b[1;32m    853\u001b[0m             \u001b[0mself\u001b[0m\u001b[0;34m.\u001b[0m\u001b[0m_parent_header\u001b[0m\u001b[0;34m,\u001b[0m\u001b[0;34m\u001b[0m\u001b[0;34m\u001b[0m\u001b[0m\n",
            "\u001b[0;32m/usr/local/lib/python3.10/dist-packages/ipykernel/kernelbase.py\u001b[0m in \u001b[0;36m_input_request\u001b[0;34m(self, prompt, ident, parent, password)\u001b[0m\n\u001b[1;32m    893\u001b[0m             \u001b[0;32mexcept\u001b[0m \u001b[0mKeyboardInterrupt\u001b[0m\u001b[0;34m:\u001b[0m\u001b[0;34m\u001b[0m\u001b[0;34m\u001b[0m\u001b[0m\n\u001b[1;32m    894\u001b[0m                 \u001b[0;31m# re-raise KeyboardInterrupt, to truncate traceback\u001b[0m\u001b[0;34m\u001b[0m\u001b[0;34m\u001b[0m\u001b[0m\n\u001b[0;32m--> 895\u001b[0;31m                 \u001b[0;32mraise\u001b[0m \u001b[0mKeyboardInterrupt\u001b[0m\u001b[0;34m(\u001b[0m\u001b[0;34m\"Interrupted by user\"\u001b[0m\u001b[0;34m)\u001b[0m \u001b[0;32mfrom\u001b[0m \u001b[0;32mNone\u001b[0m\u001b[0;34m\u001b[0m\u001b[0;34m\u001b[0m\u001b[0m\n\u001b[0m\u001b[1;32m    896\u001b[0m             \u001b[0;32mexcept\u001b[0m \u001b[0mException\u001b[0m \u001b[0;32mas\u001b[0m \u001b[0me\u001b[0m\u001b[0;34m:\u001b[0m\u001b[0;34m\u001b[0m\u001b[0;34m\u001b[0m\u001b[0m\n\u001b[1;32m    897\u001b[0m                 \u001b[0mself\u001b[0m\u001b[0;34m.\u001b[0m\u001b[0mlog\u001b[0m\u001b[0;34m.\u001b[0m\u001b[0mwarning\u001b[0m\u001b[0;34m(\u001b[0m\u001b[0;34m\"Invalid Message:\"\u001b[0m\u001b[0;34m,\u001b[0m \u001b[0mexc_info\u001b[0m\u001b[0;34m=\u001b[0m\u001b[0;32mTrue\u001b[0m\u001b[0;34m)\u001b[0m\u001b[0;34m\u001b[0m\u001b[0;34m\u001b[0m\u001b[0m\n",
            "\u001b[0;31mKeyboardInterrupt\u001b[0m: Interrupted by user"
          ]
        }
      ],
      "source": [
        "ans = input('give me a number:')"
      ]
    },
    {
      "cell_type": "code",
      "execution_count": null,
      "metadata": {
        "id": "_7pvTZVbcWqq"
      },
      "outputs": [],
      "source": [
        "type(ans)"
      ]
    },
    {
      "cell_type": "code",
      "execution_count": null,
      "metadata": {
        "colab": {
          "base_uri": "https://localhost:8080/"
        },
        "id": "M8dd4UradGgU",
        "outputId": "fbc516cd-fef3-4f12-bee6-e2c9b0c2ea05"
      },
      "outputs": [
        {
          "name": "stdout",
          "output_type": "stream",
          "text": [
            "length of side a:3\n",
            "length of side b:4\n",
            "the length of side c is5.0\n"
          ]
        }
      ],
      "source": [
        "#pythagorean theorem\n",
        "#c**2= a**2 + b**2\n",
        "sidea=int(input('length of side a:'))\n",
        "sideb=int(input('length of side b:'))\n",
        "sidec=(sidea**2 + sideb**2)**(1/2)\n",
        "print('the length of side c is'+str(sidec))"
      ]
    },
    {
      "cell_type": "code",
      "execution_count": null,
      "metadata": {
        "colab": {
          "base_uri": "https://localhost:8080/"
        },
        "id": "3RlwK4iJew8u",
        "outputId": "4d641ba2-0c6e-4c54-b823-3f1c8ee054e4"
      },
      "outputs": [
        {
          "data": {
            "text/plain": [
              "['2.4', '5', 'text', '*']"
            ]
          },
          "execution_count": 3,
          "metadata": {},
          "output_type": "execute_result"
        }
      ],
      "source": [
        "#list\n",
        "alist = [1,2,3,4,5,60]\n",
        "strlist =['hi','bell','bottom','hero','heroine']\n",
        "mixlist =['2.4','5','text','*']\n",
        "\n",
        "mixlist"
      ]
    },
    {
      "cell_type": "code",
      "execution_count": null,
      "metadata": {
        "colab": {
          "base_uri": "https://localhost:8080/"
        },
        "id": "lajOgCYHRaOi",
        "outputId": "5f333413-42bd-41b9-97a4-df81709c013c"
      },
      "outputs": [
        {
          "data": {
            "text/plain": [
              "True"
            ]
          },
          "execution_count": 4,
          "metadata": {},
          "output_type": "execute_result"
        }
      ],
      "source": [
        "2 in alist"
      ]
    },
    {
      "cell_type": "code",
      "execution_count": null,
      "metadata": {
        "colab": {
          "base_uri": "https://localhost:8080/"
        },
        "id": "wQJuJ8e-Rp4u",
        "outputId": "b47e2cad-ce75-47b4-816b-227af62c7a31"
      },
      "outputs": [
        {
          "data": {
            "text/plain": [
              "[1, 2, 3, 4, 5, 60, '2.4', '5', 'text', '*']"
            ]
          },
          "execution_count": 4,
          "metadata": {},
          "output_type": "execute_result"
        }
      ],
      "source": [
        "alist*3\n",
        "alist + mixlist"
      ]
    },
    {
      "cell_type": "code",
      "execution_count": null,
      "metadata": {
        "colab": {
          "base_uri": "https://localhost:8080/"
        },
        "id": "ujp4ao7iimMr",
        "outputId": "fccd6017-ad70-4ee5-c400-14fe17fac004"
      },
      "outputs": [
        {
          "name": "stdout",
          "output_type": "stream",
          "text": [
            "[1, 2, 3, 4, 5, 60]\n",
            "[1, 2, 3, 4, 5, 60, -100]\n"
          ]
        }
      ],
      "source": [
        "#method\n",
        "print(alist)\n",
        "alist.append(-100)\n",
        "print(alist)"
      ]
    },
    {
      "cell_type": "code",
      "execution_count": null,
      "metadata": {
        "colab": {
          "base_uri": "https://localhost:8080/"
        },
        "id": "CIxpFgQGi7lz",
        "outputId": "e0265097-592f-4f20-daad-d077ddea4589"
      },
      "outputs": [
        {
          "name": "stdout",
          "output_type": "stream",
          "text": [
            "[1, 2, 3, 4, 5, 60, -100, -100]\n",
            "[1, 2, 3, 4, 5, 60, -100, -100, -100]\n"
          ]
        },
        {
          "data": {
            "text/plain": [
              "<function list.sort(*, key=None, reverse=False)>"
            ]
          },
          "execution_count": 7,
          "metadata": {},
          "output_type": "execute_result"
        }
      ],
      "source": [
        "#method\n",
        "print(alist)\n",
        "alist.append(-100)\n",
        "print(alist)\n",
        "alist.sort"
      ]
    },
    {
      "cell_type": "code",
      "execution_count": null,
      "metadata": {
        "colab": {
          "base_uri": "https://localhost:8080/"
        },
        "id": "aXTvtSPIlH7R",
        "outputId": "53027850-e849-459e-fa26-6467b9217e7d"
      },
      "outputs": [
        {
          "data": {
            "text/plain": [
              "<function list.sort(*, key=None, reverse=False)>"
            ]
          },
          "execution_count": 8,
          "metadata": {},
          "output_type": "execute_result"
        }
      ],
      "source": [
        "alist.sort"
      ]
    },
    {
      "cell_type": "code",
      "execution_count": null,
      "metadata": {
        "colab": {
          "base_uri": "https://localhost:8080/"
        },
        "id": "k0Vpw2F8lQA8",
        "outputId": "0a567e46-4596-45ab-e3ed-0de5e20292e4"
      },
      "outputs": [
        {
          "data": {
            "text/plain": [
              "1"
            ]
          },
          "execution_count": 9,
          "metadata": {},
          "output_type": "execute_result"
        }
      ],
      "source": [
        "alist.count(2)"
      ]
    },
    {
      "cell_type": "code",
      "execution_count": null,
      "metadata": {
        "colab": {
          "base_uri": "https://localhost:8080/"
        },
        "id": "7AMRU4a8ndjY",
        "outputId": "e2d7a3c1-0a96-4d78-e604-1b2ea18489dc"
      },
      "outputs": [
        {
          "name": "stdout",
          "output_type": "stream",
          "text": [
            "[1, 2, 3, 69, 69, 4, 5, 60, -100, -100, -100]\n"
          ]
        }
      ],
      "source": [
        "alist.insert(3,69)\n",
        "print(alist)"
      ]
    },
    {
      "cell_type": "code",
      "execution_count": null,
      "metadata": {
        "colab": {
          "base_uri": "https://localhost:8080/"
        },
        "id": "9nMMsIcaoQM-",
        "outputId": "503d2308-51c4-4cf7-dd81-a31861b8a538"
      },
      "outputs": [
        {
          "data": {
            "text/plain": [
              "[1, 2, 3, 69, 4, 5, 60, -100, -100, -100]"
            ]
          },
          "execution_count": 12,
          "metadata": {},
          "output_type": "execute_result"
        }
      ],
      "source": [
        "alist.remove(69)\n",
        "alist"
      ]
    },
    {
      "cell_type": "code",
      "execution_count": null,
      "metadata": {
        "colab": {
          "base_uri": "https://localhost:8080/"
        },
        "id": "_UqguTnjo7aG",
        "outputId": "0e914785-5337-45a9-deae-2f4c02598dfc"
      },
      "outputs": [
        {
          "name": "stdout",
          "output_type": "stream",
          "text": [
            "[1, 2, 3, 69, 'hello', 'hello', 'hello', 4, 5, 60, -100, -100, -100]\n"
          ]
        },
        {
          "data": {
            "text/plain": [
              "<function list.sort(*, key=None, reverse=False)>"
            ]
          },
          "execution_count": 19,
          "metadata": {},
          "output_type": "execute_result"
        }
      ],
      "source": [
        "alist.insert(4,'hello')\n",
        "alist.sort\n",
        "print(alist)\n",
        "alist.sort"
      ]
    },
    {
      "cell_type": "code",
      "execution_count": null,
      "metadata": {
        "colab": {
          "base_uri": "https://localhost:8080/"
        },
        "id": "jUlWr_xLp-C0",
        "outputId": "97b16e6e-cc1e-4999-a66b-b7257596763e"
      },
      "outputs": [
        {
          "name": "stdout",
          "output_type": "stream",
          "text": [
            "[1, 2, 3, 69, 'hello', 4, 5, 60, -100, -100, -100]\n"
          ]
        }
      ],
      "source": [
        "alist.remove('hello')\n",
        "print(alist)"
      ]
    },
    {
      "cell_type": "code",
      "execution_count": null,
      "metadata": {
        "colab": {
          "base_uri": "https://localhost:8080/"
        },
        "id": "wn8WgUraqM3r",
        "outputId": "cd7d56be-6f4a-4cd4-f0e0-d07fa9db1498"
      },
      "outputs": [
        {
          "name": "stdout",
          "output_type": "stream",
          "text": [
            "[1, 2, 3, 69, 4, 5, 60, -100, -100, -100]\n"
          ]
        }
      ],
      "source": [
        "\n",
        "alist.sort\n",
        "print(alist)"
      ]
    },
    {
      "cell_type": "code",
      "execution_count": null,
      "metadata": {
        "colab": {
          "base_uri": "https://localhost:8080/"
        },
        "id": "6FOn6eqMqRjC",
        "outputId": "56f76990-3cd4-411b-d3a2-2a3acd1180f0"
      },
      "outputs": [
        {
          "data": {
            "text/plain": [
              "(3, 'ksj', 5.5, 3, 'ksj', 5.5)"
            ]
          },
          "execution_count": 28,
          "metadata": {},
          "output_type": "execute_result"
        }
      ],
      "source": [
        "#tuple\n",
        "atuple =(3,'ksj',5.5)\n",
        "\n",
        "atuple*2\n"
      ]
    },
    {
      "cell_type": "code",
      "execution_count": null,
      "metadata": {
        "id": "Pe9Pj_29sg4J"
      },
      "outputs": [],
      "source": []
    },
    {
      "cell_type": "code",
      "execution_count": null,
      "metadata": {
        "colab": {
          "base_uri": "https://localhost:8080/"
        },
        "id": "98-QVZbEsNMS",
        "outputId": "3a12c1d1-8981-473b-f348-9cfae6321935"
      },
      "outputs": [
        {
          "name": "stdout",
          "output_type": "stream",
          "text": [
            "[1, 2, 3, 69, 4, 5, 60, -100, -100, -100]\n",
            "[1, 2, 3, 69, 4, 5, 60, 99, -100, -100]\n"
          ]
        }
      ],
      "source": [
        "#list is mutable\n",
        "#tuple is immutable\n",
        "\n",
        "print(alist)\n",
        "alist[7]=99\n",
        "print(alist)"
      ]
    },
    {
      "cell_type": "code",
      "execution_count": null,
      "metadata": {
        "colab": {
          "base_uri": "https://localhost:8080/",
          "height": 193
        },
        "id": "SqWMWgwbs8Ur",
        "outputId": "16ed4884-3802-47bf-94af-0b47aaeeb9c7"
      },
      "outputs": [
        {
          "name": "stdout",
          "output_type": "stream",
          "text": [
            "3\n"
          ]
        },
        {
          "ename": "TypeError",
          "evalue": "'tuple' object does not support item assignment",
          "output_type": "error",
          "traceback": [
            "\u001b[0;31m---------------------------------------------------------------------------\u001b[0m",
            "\u001b[0;31mTypeError\u001b[0m                                 Traceback (most recent call last)",
            "\u001b[0;32m<ipython-input-32-be222bb3901f>\u001b[0m in \u001b[0;36m<cell line: 2>\u001b[0;34m()\u001b[0m\n\u001b[1;32m      1\u001b[0m \u001b[0mprint\u001b[0m\u001b[0;34m(\u001b[0m\u001b[0matuple\u001b[0m\u001b[0;34m[\u001b[0m\u001b[0;36m0\u001b[0m\u001b[0;34m]\u001b[0m\u001b[0;34m)\u001b[0m\u001b[0;34m\u001b[0m\u001b[0;34m\u001b[0m\u001b[0m\n\u001b[0;32m----> 2\u001b[0;31m \u001b[0matuple\u001b[0m\u001b[0;34m[\u001b[0m\u001b[0;36m1\u001b[0m\u001b[0;34m]\u001b[0m\u001b[0;34m=\u001b[0m\u001b[0;36m99\u001b[0m\u001b[0;34m\u001b[0m\u001b[0;34m\u001b[0m\u001b[0m\n\u001b[0m\u001b[1;32m      3\u001b[0m \u001b[0mprint\u001b[0m\u001b[0;34m(\u001b[0m\u001b[0matuple\u001b[0m\u001b[0;34m)\u001b[0m\u001b[0;34m\u001b[0m\u001b[0;34m\u001b[0m\u001b[0m\n",
            "\u001b[0;31mTypeError\u001b[0m: 'tuple' object does not support item assignment"
          ]
        }
      ],
      "source": [
        "print(atuple[0])\n",
        "atuple[1]=99\n",
        "print(atuple)"
      ]
    },
    {
      "cell_type": "markdown",
      "metadata": {
        "id": "CaEVo5HhN3RV"
      },
      "source": [
        "#boolean\n",
        "#t= true\n",
        "#f= false\n",
        "test = 4 == 46\n",
        "print(test)"
      ]
    },
    {
      "cell_type": "code",
      "execution_count": null,
      "metadata": {
        "colab": {
          "base_uri": "https://localhost:8080/"
        },
        "id": "c35TL3ZgOupg",
        "outputId": "e921e869-d306-4164-ed36-b9a51c15235f"
      },
      "outputs": [
        {
          "name": "stdout",
          "output_type": "stream",
          "text": [
            "True\n"
          ]
        }
      ],
      "source": [
        "test = 4==4\n",
        "print(test)"
      ]
    },
    {
      "cell_type": "code",
      "execution_count": null,
      "metadata": {
        "colab": {
          "base_uri": "https://localhost:8080/"
        },
        "id": "g8ey7dhbPHVj",
        "outputId": "e71a8da8-2a28-4794-bf4a-ec9e1a8f1ba3"
      },
      "outputs": [
        {
          "data": {
            "text/plain": [
              "False"
            ]
          },
          "execution_count": 4,
          "metadata": {},
          "output_type": "execute_result"
        }
      ],
      "source": [
        "4<2"
      ]
    },
    {
      "cell_type": "code",
      "execution_count": null,
      "metadata": {
        "colab": {
          "base_uri": "https://localhost:8080/"
        },
        "id": "k37lR9FGPWTP",
        "outputId": "21fb99c3-7059-4fce-8009-ebf6945096b9"
      },
      "outputs": [
        {
          "data": {
            "text/plain": [
              "False"
            ]
          },
          "execution_count": 5,
          "metadata": {},
          "output_type": "execute_result"
        }
      ],
      "source": [
        "7 != 7"
      ]
    },
    {
      "cell_type": "code",
      "execution_count": null,
      "metadata": {
        "colab": {
          "base_uri": "https://localhost:8080/"
        },
        "id": "6BhTLMXIPbkz",
        "outputId": "d7300102-eab3-4bad-a102-e636645c4798"
      },
      "outputs": [
        {
          "data": {
            "text/plain": [
              "True"
            ]
          },
          "execution_count": 7,
          "metadata": {},
          "output_type": "execute_result"
        }
      ],
      "source": [
        "#conjuctive comparision\n",
        "\n",
        "x= 10\n",
        "y= 16\n",
        "#x>5 and y>13 and (y-x)>3\n",
        "\n",
        "x<5 or y>15"
      ]
    },
    {
      "cell_type": "code",
      "execution_count": null,
      "metadata": {
        "colab": {
          "base_uri": "https://localhost:8080/"
        },
        "id": "cRcCcH-qR4it",
        "outputId": "773768a0-38f3-4374-e5c3-6024d60a7fcb"
      },
      "outputs": [
        {
          "data": {
            "text/plain": [
              "False"
            ]
          },
          "execution_count": 9,
          "metadata": {},
          "output_type": "execute_result"
        }
      ],
      "source": [
        "#bool(1)\n",
        "bool(\"\")"
      ]
    },
    {
      "cell_type": "code",
      "execution_count": null,
      "metadata": {
        "colab": {
          "base_uri": "https://localhost:8080/"
        },
        "id": "Ta_YwcaJSvah",
        "outputId": "7f8e68f8-b7c6-40f4-95e7-5a90d74ece2e"
      },
      "outputs": [
        {
          "name": "stdout",
          "output_type": "stream",
          "text": [
            "length of side a:7\n",
            "length of side b:8\n",
            "length of side c:9\n",
            "your answer isFalse\n"
          ]
        }
      ],
      "source": [
        "#pythagorean theorem\n",
        "#c**2= a**2 + b**2\n",
        "sidea=float(input('length of side a:'))\n",
        "sideb=float(input('length of side b:'))\n",
        "sidec=float(input('length of side c:'))\n",
        "\n",
        "pythtriplet=sidec**2 == sidea**2 + sideb**2\n",
        "print('your answer is'+str(pythtriplet))\n"
      ]
    },
    {
      "cell_type": "code",
      "execution_count": null,
      "metadata": {
        "colab": {
          "base_uri": "https://localhost:8080/"
        },
        "id": "zTcXztcSYYAa",
        "outputId": "b1637178-45a3-4978-b788-3f03c60e211e"
      },
      "outputs": [
        {
          "data": {
            "text/plain": [
              "{}"
            ]
          },
          "execution_count": 13,
          "metadata": {},
          "output_type": "execute_result"
        }
      ],
      "source": [
        "#dictionary : key/value pairs\n",
        "D = dict()\n",
        "D\n",
        "#[] lists\n",
        "#() tuples\n",
        "#{} dictionaries"
      ]
    },
    {
      "cell_type": "code",
      "execution_count": null,
      "metadata": {
        "colab": {
          "base_uri": "https://localhost:8080/"
        },
        "id": "uoS_AxSEZCTj",
        "outputId": "b01e2dca-e331-4e0c-e4c5-6df05d9a2bc2"
      },
      "outputs": [
        {
          "data": {
            "text/plain": [
              "{'name': 'pranav', 'age': [20]}"
            ]
          },
          "execution_count": 19,
          "metadata": {},
          "output_type": "execute_result"
        }
      ],
      "source": [
        "#key   value\n",
        "D['name'] = 'pranav'\n",
        "D['age']=[20]\n",
        "D"
      ]
    },
    {
      "cell_type": "code",
      "execution_count": null,
      "metadata": {
        "colab": {
          "base_uri": "https://localhost:8080/"
        },
        "id": "MYCjXqNcaT3F",
        "outputId": "4ebed841-6e52-487b-a91f-8f44cb6ee7c7"
      },
      "outputs": [
        {
          "data": {
            "text/plain": [
              "{'name': 'pranav', 'age': [20], 'Favhero': 'hero'}"
            ]
          },
          "execution_count": 21,
          "metadata": {},
          "output_type": "execute_result"
        }
      ],
      "source": [
        "E = {'name': 'pranav', 'age': [20], 'Favhero':'hero'}\n",
        "E"
      ]
    },
    {
      "cell_type": "code",
      "execution_count": null,
      "metadata": {
        "colab": {
          "base_uri": "https://localhost:8080/"
        },
        "id": "HVHICRGibD17",
        "outputId": "a85a3c73-a419-4b58-c76d-7b979110d9cc"
      },
      "outputs": [
        {
          "data": {
            "text/plain": [
              "dict_items([('name', 'pranav'), ('age', [20]), ('Favhero', 'hero')])"
            ]
          },
          "execution_count": 23,
          "metadata": {},
          "output_type": "execute_result"
        }
      ],
      "source": [
        "E.items()"
      ]
    },
    {
      "cell_type": "code",
      "execution_count": null,
      "metadata": {
        "colab": {
          "base_uri": "https://localhost:8080/"
        },
        "id": "Q1XiVyW0bUTf",
        "outputId": "d2ce6ec7-796e-4b5b-c105-1f57395cb330"
      },
      "outputs": [
        {
          "data": {
            "text/plain": [
              "{'name': 'pranav', 'age': [20], 'Favhero': 'hero'}"
            ]
          },
          "execution_count": 24,
          "metadata": {},
          "output_type": "execute_result"
        }
      ],
      "source": [
        "E.copy()"
      ]
    },
    {
      "cell_type": "code",
      "execution_count": null,
      "metadata": {
        "id": "TIM2aB_ObZMb"
      },
      "outputs": [],
      "source": [
        "  E.clear()"
      ]
    },
    {
      "cell_type": "code",
      "execution_count": null,
      "metadata": {
        "colab": {
          "base_uri": "https://localhost:8080/"
        },
        "id": "rktHCrE2be-F",
        "outputId": "255143e1-db1a-489c-f2c9-8ff0da921568"
      },
      "outputs": [
        {
          "data": {
            "text/plain": [
              "dict_items([])"
            ]
          },
          "execution_count": 26,
          "metadata": {},
          "output_type": "execute_result"
        }
      ],
      "source": [
        "E.items()"
      ]
    },
    {
      "cell_type": "code",
      "execution_count": null,
      "metadata": {
        "colab": {
          "base_uri": "https://localhost:8080/"
        },
        "id": "sTiV4KGkbi5A",
        "outputId": "ecd613eb-da3c-4f03-c10b-709e2cd8df91"
      },
      "outputs": [
        {
          "name": "stdout",
          "output_type": "stream",
          "text": [
            "enter value of a: 3\n",
            "enter value of b: 4\n"
          ]
        },
        {
          "data": {
            "text/plain": [
              "dict_items([('firstNum', 3), ('secondNum', 4), ('product', 12)])"
            ]
          },
          "execution_count": 32,
          "metadata": {},
          "output_type": "execute_result"
        }
      ],
      "source": [
        "D= dict()\n",
        "num1 = int(input(\"enter value of a: \"))\n",
        "num2 = int(input(\"enter value of b: \"))\n",
        "\n",
        "D['firstNum']=num1\n",
        "D['secondNum']=num2\n",
        "\n",
        "D['product']=num1*num2\n",
        "\n",
        "D.items()"
      ]
    },
    {
      "cell_type": "code",
      "execution_count": null,
      "metadata": {
        "colab": {
          "base_uri": "https://localhost:8080/"
        },
        "id": "NYtftmhOqRCp",
        "outputId": "60710842-d33c-4491-cfb1-776bc4403fbc"
      },
      "outputs": [
        {
          "data": {
            "text/plain": [
              "20"
            ]
          },
          "execution_count": 36,
          "metadata": {},
          "output_type": "execute_result"
        }
      ],
      "source": [
        "#INDEX\n",
        "alist = [4,6,2,-6,[10,20,30],10.01]\n",
        "\n",
        "alist[4][1]"
      ]
    },
    {
      "cell_type": "code",
      "execution_count": null,
      "metadata": {
        "colab": {
          "base_uri": "https://localhost:8080/",
          "height": 36
        },
        "id": "tLA135VLsMtl",
        "outputId": "14defdc8-f3a4-4e99-b8b7-df71cbbc9590"
      },
      "outputs": [
        {
          "data": {
            "application/vnd.google.colaboratory.intrinsic+json": {
              "type": "string"
            },
            "text/plain": [
              "'yummy'"
            ]
          },
          "execution_count": 43,
          "metadata": {},
          "output_type": "execute_result"
        }
      ],
      "source": [
        "listlist = [4,'hi',[5,4,3],'yo',{'squirrel':'cute','penguin':'yummy'}]\n",
        "listlist[4]['penguin']"
      ]
    },
    {
      "cell_type": "code",
      "execution_count": null,
      "metadata": {
        "colab": {
          "base_uri": "https://localhost:8080/"
        },
        "id": "L6g671USptqC",
        "outputId": "0d0001bf-f125-4900-acba-f5604f2708de"
      },
      "outputs": [
        {
          "data": {
            "text/plain": [
              "[5, 6, 7, 8, 9, 10]"
            ]
          },
          "execution_count": 2,
          "metadata": {},
          "output_type": "execute_result"
        }
      ],
      "source": [
        "#slicing\n",
        "a = list( range(5,11) )\n",
        "a"
      ]
    },
    {
      "cell_type": "code",
      "execution_count": null,
      "metadata": {
        "colab": {
          "base_uri": "https://localhost:8080/"
        },
        "id": "G-L6onpPwZgu",
        "outputId": "05e73305-be21-4367-c603-be9518b45ed4"
      },
      "outputs": [
        {
          "data": {
            "text/plain": [
              "[6, 8, 10]"
            ]
          },
          "execution_count": 4,
          "metadata": {},
          "output_type": "execute_result"
        }
      ],
      "source": [
        "a[1::2]"
      ]
    },
    {
      "cell_type": "code",
      "execution_count": null,
      "metadata": {
        "colab": {
          "base_uri": "https://localhost:8080/"
        },
        "id": "6dYVx_PweJsb",
        "outputId": "0264005f-8d9f-4055-f3f6-fc5101b0ed68"
      },
      "outputs": [
        {
          "data": {
            "text/plain": [
              "[6]"
            ]
          },
          "execution_count": 3,
          "metadata": {},
          "output_type": "execute_result"
        }
      ],
      "source": [
        "a[1::5]"
      ]
    },
    {
      "cell_type": "code",
      "execution_count": null,
      "metadata": {
        "colab": {
          "base_uri": "https://localhost:8080/"
        },
        "id": "OxHMgRhIenZO",
        "outputId": "438d8b66-0645-41ac-bb47-1ed51a89b503"
      },
      "outputs": [
        {
          "data": {
            "text/plain": [
              "[5, 7]"
            ]
          },
          "execution_count": 4,
          "metadata": {},
          "output_type": "execute_result"
        }
      ],
      "source": [
        "start=0\n",
        "stop=3\n",
        "skip=2\n",
        "a[start:stop:skip]"
      ]
    },
    {
      "cell_type": "code",
      "execution_count": null,
      "metadata": {
        "colab": {
          "base_uri": "https://localhost:8080/"
        },
        "id": "Xgn3eAwJe06r",
        "outputId": "b945d5fb-d58c-4c99-ffde-0b9898d4569b"
      },
      "outputs": [
        {
          "data": {
            "text/plain": [
              "[10, 9, 8, 7, 6, 5]"
            ]
          },
          "execution_count": 5,
          "metadata": {},
          "output_type": "execute_result"
        }
      ],
      "source": [
        "#reverse list\n",
        "a[::-1]"
      ]
    },
    {
      "cell_type": "code",
      "execution_count": null,
      "metadata": {
        "colab": {
          "base_uri": "https://localhost:8080/",
          "height": 36
        },
        "id": "V8wpq9tTfF_g",
        "outputId": "ae8e7486-8d7b-4e1b-db3b-f092401b21ed"
      },
      "outputs": [
        {
          "data": {
            "application/vnd.google.colaboratory.intrinsic+json": {
              "type": "string"
            },
            "text/plain": [
              "'Mike is a nice guy'"
            ]
          },
          "execution_count": 9,
          "metadata": {},
          "output_type": "execute_result"
        }
      ],
      "source": [
        "text='345dfyug ecin a si ekiM 93845d'\n",
        "start=-8\n",
        "stop=4\n",
        "skip=-1\n",
        "text[start:stop:skip]"
      ]
    },
    {
      "cell_type": "code",
      "execution_count": null,
      "metadata": {
        "id": "XAPLydJlkc1n"
      },
      "outputs": [],
      "source": [
        "sum=([10,20,22])"
      ]
    },
    {
      "cell_type": "code",
      "execution_count": null,
      "metadata": {
        "colab": {
          "base_uri": "https://localhost:8080/",
          "height": 176
        },
        "id": "hqH7JD6glsDd",
        "outputId": "14450bc7-8b7d-47c1-e232-346854d72cd0"
      },
      "outputs": [
        {
          "ename": "TypeError",
          "evalue": "'list' object is not callable",
          "output_type": "error",
          "traceback": [
            "\u001b[0;31m---------------------------------------------------------------------------\u001b[0m",
            "\u001b[0;31mTypeError\u001b[0m                                 Traceback (most recent call last)",
            "\u001b[0;32m<ipython-input-22-a73d6059ce08>\u001b[0m in \u001b[0;36m<cell line: 2>\u001b[0;34m()\u001b[0m\n\u001b[1;32m      1\u001b[0m \u001b[0mvar\u001b[0m\u001b[0;34m=\u001b[0m\u001b[0;34m[\u001b[0m\u001b[0;36m10\u001b[0m\u001b[0;34m,\u001b[0m\u001b[0;36m20\u001b[0m\u001b[0;34m,\u001b[0m\u001b[0;36m30\u001b[0m\u001b[0;34m]\u001b[0m\u001b[0;34m\u001b[0m\u001b[0;34m\u001b[0m\u001b[0m\n\u001b[0;32m----> 2\u001b[0;31m \u001b[0moutput1\u001b[0m \u001b[0;34m=\u001b[0m \u001b[0msum\u001b[0m\u001b[0;34m(\u001b[0m\u001b[0mvar\u001b[0m\u001b[0;34m)\u001b[0m\u001b[0;34m\u001b[0m\u001b[0;34m\u001b[0m\u001b[0m\n\u001b[0m\u001b[1;32m      3\u001b[0m \u001b[0mprint\u001b[0m\u001b[0;34m(\u001b[0m\u001b[0;34m'the sum is'\u001b[0m \u001b[0;34m+\u001b[0m\u001b[0mstr\u001b[0m\u001b[0;34m(\u001b[0m\u001b[0moutput\u001b[0m\u001b[0;34m)\u001b[0m\u001b[0;34m)\u001b[0m\u001b[0;34m\u001b[0m\u001b[0;34m\u001b[0m\u001b[0m\n",
            "\u001b[0;31mTypeError\u001b[0m: 'list' object is not callable"
          ]
        }
      ],
      "source": [
        "var=[10,20,30]\n",
        "output1 = sum(var)\n",
        "print('the sum is' +str(output))"
      ]
    }
  ],
  "metadata": {
    "colab": {
      "provenance": []
    },
    "kernelspec": {
      "display_name": "Python 3",
      "name": "python3"
    },
    "language_info": {
      "name": "python"
    }
  },
  "nbformat": 4,
  "nbformat_minor": 0
}
